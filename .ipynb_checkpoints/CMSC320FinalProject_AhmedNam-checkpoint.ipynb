{
 "cells": [
  {
   "cell_type": "markdown",
   "metadata": {},
   "source": [
    "# A Search for Stars: An Analysis of the NFL's Draft Combine\n",
    "\n",
    "Mutaz Ahmed and Jonathan Nam, CMSC320"
   ]
  },
  {
   "cell_type": "markdown",
   "metadata": {},
   "source": [
    "##### i. Requirements"
   ]
  },
  {
   "cell_type": "code",
   "execution_count": 6,
   "metadata": {
    "colab": {},
    "colab_type": "code",
    "id": "LMT-ncPK-FtX"
   },
   "outputs": [
    {
     "ename": "ImportError",
     "evalue": "No module named matplotlib.pyplot",
     "output_type": "error",
     "traceback": [
      "\u001b[0;31m---------------------------------------------------------------------------\u001b[0m",
      "\u001b[0;31mImportError\u001b[0m                               Traceback (most recent call last)",
      "\u001b[0;32m<ipython-input-6-83c592d9e78e>\u001b[0m in \u001b[0;36m<module>\u001b[0;34m()\u001b[0m\n\u001b[0;32m----> 1\u001b[0;31m \u001b[0;32mimport\u001b[0m \u001b[0mmatplotlib\u001b[0m\u001b[0;34m.\u001b[0m\u001b[0mpyplot\u001b[0m \u001b[0;32mas\u001b[0m \u001b[0mplt\u001b[0m\u001b[0;34m\u001b[0m\u001b[0;34m\u001b[0m\u001b[0m\n\u001b[0m\u001b[1;32m      2\u001b[0m \u001b[0;32mimport\u001b[0m \u001b[0mnumpy\u001b[0m \u001b[0;32mas\u001b[0m \u001b[0mnp\u001b[0m\u001b[0;34m\u001b[0m\u001b[0;34m\u001b[0m\u001b[0m\n\u001b[1;32m      3\u001b[0m \u001b[0;32mimport\u001b[0m \u001b[0mpandas\u001b[0m \u001b[0;32mas\u001b[0m \u001b[0mpd\u001b[0m\u001b[0;34m\u001b[0m\u001b[0;34m\u001b[0m\u001b[0m\n\u001b[1;32m      4\u001b[0m \u001b[0;32mimport\u001b[0m \u001b[0mseaborn\u001b[0m \u001b[0;32mas\u001b[0m \u001b[0msns\u001b[0m\u001b[0;34m\u001b[0m\u001b[0;34m\u001b[0m\u001b[0m\n\u001b[1;32m      5\u001b[0m \u001b[0msns\u001b[0m\u001b[0;34m.\u001b[0m\u001b[0mset\u001b[0m\u001b[0;34m(\u001b[0m\u001b[0mfont_scale\u001b[0m\u001b[0;34m=\u001b[0m\u001b[0;36m1.5\u001b[0m\u001b[0;34m)\u001b[0m\u001b[0;34m\u001b[0m\u001b[0;34m\u001b[0m\u001b[0m\n",
      "\u001b[0;31mImportError\u001b[0m: No module named matplotlib.pyplot"
     ]
    }
   ],
   "source": [
    "import matplotlib.pyplot as plt\n",
    "import numpy as np\n",
    "import pandas as pd\n",
    "import seaborn as sns\n",
    "sns.set(font_scale=1.5)\n",
    "\n",
    "import sklearn\n",
    "from sklearn.linear_model import LinearRegression\n",
    "import statsmodels.api as sm\n",
    "import re"
   ]
  },
  {
   "cell_type": "markdown",
   "metadata": {},
   "source": [
    "###### ii. Preliminary Resources\n",
    "\n",
    "For readers new to the NFL, the NFL Draft, or the NFL Draft combine, please consult the following resources before continuing:\n",
    "- https://www.keithprowse.co.uk/news-and-blog/2017/03/17/a-beginners-guide-to-nfl/. A brief introduction to the NFL. \n",
    "- https://operations.nfl.com/the-rules/. A fully comprehensive rulebook provided by the NFL itself. Although it is not necessary to read through in its entirety, viewing some video examples will give a better understanding of how the game works. \n",
    "- https://www.sportingnews.com/us/nfl/news/how-does-the-nfl-draft-work-rules-rounds-eligibility-and-more/o431yshp0l431e7543pcrzpg1. An overview of the NFL Draft. Rounds, rules, and regulations discussed.\n",
    "- https://operations.nfl.com/the-players/the-nfl-draft/the-rules-of-the-draft/. \n",
    "This brief reading from the NFL discusses team-player interactions, draft picks, general draft rules and regulations, and more.\n",
    "- https://www.espn.com/nfl/story/_/id/26136412/steak-booze-sense-dull-dread-here-really-happens-nfl-combine. ESPN senior writer Wright Thompson gives an overview of the four days he spent at the 2019 NFL Draft Combine.\n",
    "- https://www.nj.com/sports/g66l-2019/02/6a6b577d965828/nfl-combine-2019-everything-you-need-to-know-as-nfl-draft-2019-scouting-ramps-up-tv-schedule-star-players-what-to-watch-faq-more.html. A short summary of the NFL combine.\n",
    "\n",
    "For more experienced fans, these articles give greater insights:\n",
    "- https://bleacherreport.com/articles/2812782-2019-nfl-mock-draft-matt-millers-post-regular-season-predictions#slide1. Bleacher Report writer Matt Miller gives his predictions for the top 20 picks of 2019's NFL Draft. Gives insight into types of players certain teams will look for. \n",
    "- https://www.usatoday.com/story/sports/nfl/draft/2019/03/05/nfl-combine-winners-losers-dk-metcalf-montez-sweat-draft-stock/3049233002/. USA Today writer Michael Middlehurst-Schwartz gives his insights on \"winners\" and \"losers\" from the 2019 NFL Combine. Describes certain player performances from the Combine and how these performances affect draft stocks. \n"
   ]
  },
  {
   "cell_type": "markdown",
   "metadata": {},
   "source": [
    "## 1. Introduction\n",
    "\n",
    "The National Football League (NFL) is a multi-billion dollar sports and entertainment organization delivering weekly football games for tens of thousands of fans live with millions of fans watching from home. Each year, teams try to strike gold in the NFL Draft, an event giving teams the exclusive rights to pick and sign new talent entering the league. Preceding the draft is the draft combine, a separate event allowing players to show off their physical skills and abilities. These players are given the opportunity to participate in the NFL combine where they are put through a number of drills to help scouts assess their draft stock, for the better or for the worse.\n",
    "\n",
    "At the NFL Combine, players are put through a number of drills to assess their physical attributes. These drills include the 40-yard dash, bench press, vertical jump, broad jump, 3-cone drill and the shuttle run. \n",
    "\n",
    "- The 40-yard dash is used to assess participants' speed and consists of timing the participant's time to sprint across 40 yards.\n",
    "\n",
    "- The bench press is used to assess participants' strength and consists of measuring how many consecutive repititions each participant can complete of 225 pounds.\n",
    "\n",
    "- The broad jump is used to assess participants' lower body strength and explosion. The participant begins at a stand still and then jumps out as far as they can whilst still landing on their feet. The distance they cover on the jump, while still landing on their feet, is then measured.\n",
    "\n",
    "- The 3-cone drill is used to assess participants' agility. A set of 3-cones are set up in an L-shape and the participant runs through the set of 3-cones in a tight fashion. This drill is to assess acceleration and change of direction of the participant. \n",
    "\n",
    "- The shuttle run is used to assess participants' explosion and acceleration. The participant begins by first sprinting five yards to the left, then turn around sprint ten yards to the right, turn around once more and finish sprinting the last five yards to the left. \n",
    "\n",
    "Year after year, scouts and front offices are given the difficult task of finding talent in efforts to boost their teams to the top. But perhaps, these success factors are most apparent in the NFL Draft Combine. In an attempt to discover up and coming football talent ourselves, we analyze the factors associated with the NFL Draft Combine along with attempts to predict when players will be drafted. "
   ]
  },
  {
   "cell_type": "markdown",
   "metadata": {},
   "source": [
    "## 2. Visualizing the Data\n",
    "\n",
    "To better understand the players in this analysis, it may be helpful to see a few measurements, specifically heights and weights. Without going into too much detail on each position (this could take on an entirely separate analysis), it is safe to say that positions within football are fundamentally different; as a result, players will have various physical statures. Graphs below display this information. "
   ]
  },
  {
   "cell_type": "code",
   "execution_count": 5,
   "metadata": {},
   "outputs": [
    {
     "ename": "NameError",
     "evalue": "name 'pd' is not defined",
     "output_type": "error",
     "traceback": [
      "\u001b[0;31m---------------------------------------------------------------------------\u001b[0m",
      "\u001b[0;31mNameError\u001b[0m                                 Traceback (most recent call last)",
      "\u001b[0;32m<ipython-input-5-284b1d459c96>\u001b[0m in \u001b[0;36m<module>\u001b[0;34m()\u001b[0m\n\u001b[0;32m----> 1\u001b[0;31m \u001b[0mcombine_data\u001b[0m \u001b[0;34m=\u001b[0m \u001b[0mpd\u001b[0m\u001b[0;34m.\u001b[0m\u001b[0mread_csv\u001b[0m\u001b[0;34m(\u001b[0m\u001b[0;34m\"./combine_csvs/all_combines.csv\"\u001b[0m\u001b[0;34m)\u001b[0m\u001b[0;34m\u001b[0m\u001b[0;34m\u001b[0m\u001b[0m\n\u001b[0m\u001b[1;32m      2\u001b[0m \u001b[0;34m\u001b[0m\u001b[0m\n\u001b[1;32m      3\u001b[0m \u001b[0mfig\u001b[0m\u001b[0;34m,\u001b[0m \u001b[0max1\u001b[0m \u001b[0;34m=\u001b[0m \u001b[0mplt\u001b[0m\u001b[0;34m.\u001b[0m\u001b[0msubplots\u001b[0m\u001b[0;34m(\u001b[0m\u001b[0mfigsize\u001b[0m\u001b[0;34m=\u001b[0m\u001b[0;34m(\u001b[0m\u001b[0;36m30\u001b[0m\u001b[0;34m,\u001b[0m \u001b[0;36m10\u001b[0m\u001b[0;34m)\u001b[0m\u001b[0;34m,\u001b[0m \u001b[0mncols\u001b[0m\u001b[0;34m=\u001b[0m\u001b[0;36m3\u001b[0m\u001b[0;34m,\u001b[0m \u001b[0msharex\u001b[0m\u001b[0;34m=\u001b[0m\u001b[0mTrue\u001b[0m\u001b[0;34m,\u001b[0m \u001b[0msharey\u001b[0m\u001b[0;34m=\u001b[0m\u001b[0mTrue\u001b[0m\u001b[0;34m)\u001b[0m\u001b[0;34m\u001b[0m\u001b[0;34m\u001b[0m\u001b[0m\n\u001b[1;32m      4\u001b[0m \u001b[0mfig2\u001b[0m\u001b[0;34m,\u001b[0m \u001b[0max2\u001b[0m \u001b[0;34m=\u001b[0m \u001b[0mplt\u001b[0m\u001b[0;34m.\u001b[0m\u001b[0msubplots\u001b[0m\u001b[0;34m(\u001b[0m\u001b[0mfigsize\u001b[0m\u001b[0;34m=\u001b[0m\u001b[0;34m(\u001b[0m\u001b[0;36m30\u001b[0m\u001b[0;34m,\u001b[0m \u001b[0;36m10\u001b[0m\u001b[0;34m)\u001b[0m\u001b[0;34m,\u001b[0m \u001b[0mncols\u001b[0m\u001b[0;34m=\u001b[0m\u001b[0;36m3\u001b[0m\u001b[0;34m,\u001b[0m \u001b[0msharex\u001b[0m\u001b[0;34m=\u001b[0m\u001b[0mTrue\u001b[0m\u001b[0;34m,\u001b[0m \u001b[0msharey\u001b[0m\u001b[0;34m=\u001b[0m\u001b[0mTrue\u001b[0m\u001b[0;34m)\u001b[0m\u001b[0;34m\u001b[0m\u001b[0;34m\u001b[0m\u001b[0m\n\u001b[1;32m      5\u001b[0m \u001b[0mgroup1\u001b[0m \u001b[0;34m=\u001b[0m \u001b[0;34m[\u001b[0m\u001b[0;34m'DE'\u001b[0m\u001b[0;34m,\u001b[0m \u001b[0;34m'DT'\u001b[0m\u001b[0;34m,\u001b[0m \u001b[0;34m'OG'\u001b[0m\u001b[0;34m]\u001b[0m\u001b[0;34m\u001b[0m\u001b[0;34m\u001b[0m\u001b[0m\n",
      "\u001b[0;31mNameError\u001b[0m: name 'pd' is not defined"
     ]
    }
   ],
   "source": [
    "combine_data = pd.read_csv(\"./combine_csvs/all_combines.csv\")\n",
    "\n",
    "fig, ax1 = plt.subplots(figsize=(30, 10), ncols=3, sharex=True, sharey=True)\n",
    "fig2, ax2 = plt.subplots(figsize=(30, 10), ncols=3, sharex=True, sharey=True)\n",
    "group1 = ['DE', 'DT', 'OG']\n",
    "group2 = ['CB', 'FS', 'WR']\n",
    "\n",
    "combine_data['Height'] = combine_data['Height'].apply(lambda x: int(x[0:1]) * 12 + int(x[2:3]))\n",
    "by_position = combine_data.groupby(by='Pos')\n",
    "\n",
    "count1 = 0\n",
    "for name, group in by_position:\n",
    "    if name in group1:\n",
    "        sns.scatterplot(x=group['Height'], y=group['Wt'], ax=ax1[count1])\n",
    "        ax1[count1].set_title(name)\n",
    "        ax1[count1].set_ylabel(\"Weight (lbs)\")\n",
    "        ax1[count1].set_xlabel(\"Height (in)\")\n",
    "        count1 += 1\n",
    "fig.suptitle(\"Height vs Weight by Position (Group 1)\") \n",
    "\n",
    "count2 = 0\n",
    "for name, group in by_position:\n",
    "    if name in group2:\n",
    "        sns.scatterplot(x=group['Height'], y=group['Wt'], ax=ax2[count2])\n",
    "        ax2[count2].set_title(name)\n",
    "        ax2[count2].set_ylabel(\"Weight (lbs)\")\n",
    "        ax2[count2].set_xlabel(\"Height (in)\")\n",
    "        count2 += 1\n",
    "        \n",
    "fig2.suptitle(\"Height vs Weight by Position (Group 2)\")\n",
    "plt.show()"
   ]
  },
  {
   "cell_type": "markdown",
   "metadata": {},
   "source": [
    "As made evident by these graphs, players are built differently based on their positions. Defensive ends (DE), defensive tackles (DT), and offensive guards (DG) on average are taller and heavier. Players on the line must prioritize their strength and size to gain advantages. From the DT and OG graphs, players are upwards of 360 pounds. While their heights do not differ as much, cornerbacks (CB), free safeties (FS), and wide receivers (WR) are on average much smaller (and tend to be quicker as seen later on), a requirement for players at these positions. "
   ]
  },
  {
   "cell_type": "markdown",
   "metadata": {},
   "source": [
    "The following visualizations analyze combine performance across positions. These drills tests various skills, from speed and agility to strength and power. For drills that test speed and agility like the shuttle run and the forty yard dash, there are only a few seconds of difference between the fastest and slowest times. For drills like the bench press and broad jump that may rely more on strength, we see more variance in the data. However, we must also contextualize these drill measurements around the players that are being tested. Certain positions will require excellence in certain abilities. While a defensive end may place a higher priority on their strength, it may not be realistic to expect a wide receiver or a punter to do the same, else their performance may suffer. The violin plots below represent these disparities. "
   ]
  },
  {
   "cell_type": "code",
   "execution_count": null,
   "metadata": {
    "scrolled": true
   },
   "outputs": [],
   "source": [
    "plt.figure(figsize=(8, 4))\n",
    "yd_plot = sns.violinplot(x=combine_data['Pos'], y=combine_data['40YD'])\n",
    "yd_plot.set_title(\"Position vs 40 Yard Dash Time\")\n",
    "yd_plot.set_ylabel(\"40 Yard Dash Time (seconds)\")\n",
    "yd_plot.set_xlabel(\"Position\")\n",
    "plt.show()\n",
    "\n",
    "plt.figure(figsize=(8, 4))\n",
    "bench_plot = sns.violinplot(x=combine_data['Pos'], y=combine_data['BenchReps'])\n",
    "bench_plot.set_title(\"Position vs Bench Reps\")\n",
    "bench_plot.set_ylabel(\"Bench Reps (# repetitions)\")\n",
    "bench_plot.set_xlabel(\"Position\")\n",
    "plt.show()\n",
    "\n",
    "plt.figure(figsize=(8, 4))\n",
    "bench_plot = sns.violinplot(x=combine_data['Pos'], y=combine_data['Broad Jump'])\n",
    "bench_plot.set_title(\"Position vs Broad Jump\")\n",
    "bench_plot.set_ylabel(\"Broad Jump (inches)\")\n",
    "bench_plot.set_xlabel(\"Position\")\n",
    "plt.show()"
   ]
  },
  {
   "cell_type": "markdown",
   "metadata": {},
   "source": [
    "This difference in play by position is represented by the difference in measurements by drill. For positions where players are typically more massive (DE, DT, and OG once again), players will average a greater number of repetitions in the bench press. Moreover, their measurements for drills that require a significant amount of speed and agility typically range in the higher ends. Now that there is a greater understanding of the data at hand, we can continue onto the next step of our analysis. "
   ]
  },
  {
   "cell_type": "markdown",
   "metadata": {},
   "source": [
    "## 3. Cleaning the Data\n",
    "\n",
    "Now that we better understand the data at hand, it is time to clean the data. For the sake of this analysis, we will only take into account measurements pertinent to the combine. Information such as school, team the player was drafted by, and approximate value (measurement of a player's value over the course of a season) will be removed. "
   ]
  },
  {
   "cell_type": "code",
   "execution_count": null,
   "metadata": {},
   "outputs": [],
   "source": [
    "combine_data.drop(['AV', 'School', 'College'], axis=1, inplace=True)\n",
    "combine_data.head()"
   ]
  },
  {
   "cell_type": "markdown",
   "metadata": {},
   "source": [
    "Continuing on, there is other information that is incorrect and unnecessary for this analysis. As an example, the Height column is incorrectly stored as a date value, requiring conversion. Players are also given name-based abbreviations which also need to be removed from the data. We will also only be taking into account pick number and not team or draft round (as draft round is a direct extension of the pick number)."
   ]
  },
  {
   "cell_type": "code",
   "execution_count": null,
   "metadata": {},
   "outputs": [],
   "source": [
    "combine_data.dropna(subset=['Drafted (tm/rnd/yr)'], inplace=True)\n",
    "player_cols = combine_data['Player'].str.split(\"\\\\\", expand=True)\n",
    "combine_data['Player'] = player_cols[0]\n",
    "\n",
    "draft_cols = combine_data['Drafted (tm/rnd/yr)'].str.split(\" / \", expand=True)\n",
    "combine_data['Pick Number'] = draft_cols[2]\n",
    "combine_data['Pick Number'] = combine_data['Pick Number'].apply(lambda x: re.findall(r'-?\\d+\\.?\\d*', x)[0])\n",
    "combine_data.drop(['Drafted (tm/rnd/yr)'], axis=1, inplace=True)\n",
    "\n",
    "combine_data.head()"
   ]
  },
  {
   "cell_type": "markdown",
   "metadata": {},
   "source": [
    "Our data is now much cleaner. However, there are still many NaN values as evident by the first five rows of the data. As players will commonly not participate in all drills, it is important to not ignore these rows entirely and consider what to do with NaN values, or else we would severely limit the amount of data at hand. For this analysis, we decided to impute average measurements by position. It is expected that players of similar positions will yield similar results across drills. We make this assumption because players that play the same positions will most likely develop the same skills. For drills that yield low magnitude but high variance values, such as the bench press, and for positions where there is high variance in measurements, this method may cause further issues. However, we decided this would be the best solution going forward."
   ]
  },
  {
   "cell_type": "code",
   "execution_count": null,
   "metadata": {},
   "outputs": [],
   "source": [
    "grouped = combine_data.groupby(['Pos']).mean()\n",
    "\n",
    "combine_data['Wt'] = combine_data.apply(lambda row: grouped.loc[row['Pos']]['Wt'] if row['Wt'] != row['Wt'] else row['Wt'], axis=1)\n",
    "combine_data['40YD'] = combine_data.apply(lambda row: grouped.loc[row['Pos']]['40YD'] if row['40YD'] != row['40YD'] else row['40YD'], axis=1)\n",
    "combine_data['Vertical'] = combine_data.apply(lambda row: grouped.loc[row['Pos']]['Vertical'] if row['Vertical'] != row['Vertical'] else row['Vertical'], axis=1)\n",
    "combine_data['BenchReps'] = combine_data.apply(lambda row: grouped.loc[row['Pos']]['BenchReps'] if row['BenchReps'] != row['BenchReps'] else row['BenchReps'], axis=1)\n",
    "combine_data['Broad Jump'] = combine_data.apply(lambda row: grouped.loc[row['Pos']]['Broad Jump'] if row['Broad Jump'] != row['Broad Jump'] else row['Broad Jump'], axis=1)\n",
    "combine_data['3Cone'] = combine_data.apply(lambda row: grouped.loc[row['Pos']]['3Cone'] if row['3Cone'] != row['3Cone'] else row['3Cone'], axis=1)\n",
    "combine_data['Shuttle'] = combine_data.apply(lambda row: grouped.loc[row['Pos']]['Shuttle'] if row['Shuttle'] != row['Shuttle'] else row['Shuttle'], axis=1)\n",
    "combine_data['Pick Number'] = combine_data['Pick Number'].astype(int)\n",
    "\n",
    "combine_data.head()"
   ]
  },
  {
   "cell_type": "markdown",
   "metadata": {},
   "source": [
    "## 4. Machine Learning\n",
    "\n",
    "At this point, all of our data is properly formatted and can be used for a predictive model. The goal of this model is to predict a player's draft number given their combine measurements, with a lower output equating to a more positive result (being drafted earlier) and a higher output equating to a more negative result (being drafted later or not at all). We utilize a linear regression model to make predictions here."
   ]
  },
  {
   "cell_type": "code",
   "execution_count": 7,
   "metadata": {},
   "outputs": [
    {
     "ename": "NameError",
     "evalue": "name 'combine_data' is not defined",
     "output_type": "error",
     "traceback": [
      "\u001b[0;31m---------------------------------------------------------------------------\u001b[0m",
      "\u001b[0;31mNameError\u001b[0m                                 Traceback (most recent call last)",
      "\u001b[0;32m<ipython-input-7-3d7256c74c44>\u001b[0m in \u001b[0;36m<module>\u001b[0;34m()\u001b[0m\n\u001b[1;32m      1\u001b[0m \u001b[0mind_cols\u001b[0m \u001b[0;34m=\u001b[0m \u001b[0;34m[\u001b[0m\u001b[0;34m'Height'\u001b[0m\u001b[0;34m,\u001b[0m \u001b[0;34m'Wt'\u001b[0m\u001b[0;34m,\u001b[0m \u001b[0;34m'40YD'\u001b[0m\u001b[0;34m,\u001b[0m\u001b[0;34m'Vertical'\u001b[0m\u001b[0;34m,\u001b[0m \u001b[0;34m'BenchReps'\u001b[0m\u001b[0;34m,\u001b[0m \u001b[0;34m'Broad Jump'\u001b[0m\u001b[0;34m]\u001b[0m\u001b[0;34m\u001b[0m\u001b[0;34m\u001b[0m\u001b[0m\n\u001b[1;32m      2\u001b[0m \u001b[0;34m\u001b[0m\u001b[0m\n\u001b[0;32m----> 3\u001b[0;31m \u001b[0mtrain_input\u001b[0m \u001b[0;34m=\u001b[0m \u001b[0mcombine_data\u001b[0m\u001b[0;34m[\u001b[0m\u001b[0mind_cols\u001b[0m\u001b[0;34m]\u001b[0m\u001b[0;34m.\u001b[0m\u001b[0mvalues\u001b[0m\u001b[0;34m\u001b[0m\u001b[0;34m\u001b[0m\u001b[0m\n\u001b[0m\u001b[1;32m      4\u001b[0m \u001b[0mtrain_output\u001b[0m \u001b[0;34m=\u001b[0m \u001b[0mcombine_data\u001b[0m\u001b[0;34m[\u001b[0m\u001b[0;34m'Pick Number'\u001b[0m\u001b[0;34m]\u001b[0m\u001b[0;34m.\u001b[0m\u001b[0mvalues\u001b[0m\u001b[0;34m\u001b[0m\u001b[0;34m\u001b[0m\u001b[0m\n\u001b[1;32m      5\u001b[0m \u001b[0;34m\u001b[0m\u001b[0m\n",
      "\u001b[0;31mNameError\u001b[0m: name 'combine_data' is not defined"
     ]
    }
   ],
   "source": [
    "ind_cols = ['Height', 'Wt', '40YD','Vertical', 'BenchReps', 'Broad Jump']\n",
    "\n",
    "train_input = combine_data[ind_cols].values\n",
    "train_output = combine_data['Pick Number'].values\n",
    "\n",
    "reg = LinearRegression().fit(train_input, train_output)\n",
    "print(\"Score for this model: \" + str(reg.score(train_input,train_output)))\n",
    "print(\"Coefficients for this model:\" + str(reg.coef_))\n"
   ]
  },
  {
   "cell_type": "markdown",
   "metadata": {},
   "source": [
    "Based on the coefficient of determination yielded by this model, this regression model doen't do too great a job at predicting a player's draft position. Despite this, some coefficients vary as we might expect."
   ]
  },
  {
   "cell_type": "markdown",
   "metadata": {},
   "source": [
    "To further test the accuracy of this model, we predict the draft picks of everyone in the 2017 draft as this is the most up-to-date data in our dataset. We then compare this to where they were actually drafted. "
   ]
  },
  {
   "cell_type": "code",
   "execution_count": 8,
   "metadata": {},
   "outputs": [
    {
     "ename": "NameError",
     "evalue": "name 'combine_data' is not defined",
     "output_type": "error",
     "traceback": [
      "\u001b[0;31m---------------------------------------------------------------------------\u001b[0m",
      "\u001b[0;31mNameError\u001b[0m                                 Traceback (most recent call last)",
      "\u001b[0;32m<ipython-input-8-bb2905ba13af>\u001b[0m in \u001b[0;36m<module>\u001b[0;34m()\u001b[0m\n\u001b[0;32m----> 1\u001b[0;31m \u001b[0mtest_data\u001b[0m \u001b[0;34m=\u001b[0m \u001b[0mcombine_data\u001b[0m\u001b[0;34m.\u001b[0m\u001b[0mcopy\u001b[0m\u001b[0;34m(\u001b[0m\u001b[0;34m)\u001b[0m\u001b[0;34m\u001b[0m\u001b[0;34m\u001b[0m\u001b[0m\n\u001b[0m\u001b[1;32m      2\u001b[0m \u001b[0mtest_data\u001b[0m \u001b[0;34m=\u001b[0m \u001b[0mtest_data\u001b[0m\u001b[0;34m[\u001b[0m\u001b[0mtest_data\u001b[0m\u001b[0;34m[\u001b[0m\u001b[0;34m'Year'\u001b[0m\u001b[0;34m]\u001b[0m \u001b[0;34m==\u001b[0m \u001b[0;36m2017\u001b[0m\u001b[0;34m]\u001b[0m\u001b[0;34m\u001b[0m\u001b[0;34m\u001b[0m\u001b[0m\n\u001b[1;32m      3\u001b[0m \u001b[0;34m\u001b[0m\u001b[0m\n\u001b[1;32m      4\u001b[0m \u001b[0marr\u001b[0m \u001b[0;34m=\u001b[0m \u001b[0;34m[\u001b[0m\u001b[0;34m]\u001b[0m\u001b[0;34m\u001b[0m\u001b[0;34m\u001b[0m\u001b[0m\n\u001b[1;32m      5\u001b[0m \u001b[0;32mfor\u001b[0m \u001b[0mindex\u001b[0m\u001b[0;34m,\u001b[0m \u001b[0mrow\u001b[0m \u001b[0;32min\u001b[0m \u001b[0mtest_data\u001b[0m\u001b[0;34m.\u001b[0m\u001b[0miterrows\u001b[0m\u001b[0;34m(\u001b[0m\u001b[0;34m)\u001b[0m\u001b[0;34m:\u001b[0m\u001b[0;34m\u001b[0m\u001b[0;34m\u001b[0m\u001b[0m\n",
      "\u001b[0;31mNameError\u001b[0m: name 'combine_data' is not defined"
     ]
    }
   ],
   "source": [
    "test_data = combine_data.copy()\n",
    "test_data = test_data[test_data['Year'] == 2017]\n",
    "\n",
    "arr = []\n",
    "for index, row in test_data.iterrows():\n",
    "    arr.append(reg.predict(row[['Height','Wt','40YD','Vertical','BenchReps','Broad Jump']].to_numpy().reshape(1,6))[0])\n",
    "\n",
    "series = pd.Series(arr, test_data.index)\n",
    "test_data['prediction'] = series\n",
    "test_data['residuals'] = test_data['Pick Number'] - test_data['prediction']\n",
    "\n",
    "plt.figure(figsize = (8,4))\n",
    "res_plot = sns.boxplot(x = 'Pos', y = 'residuals', data = test_data)\n",
    "res_plot.set_title(\"Predicted Pick Residuals by Position\")\n",
    "plt.show()"
   ]
  },
  {
   "cell_type": "markdown",
   "metadata": {},
   "source": [
    "Above is a plot of the residuals, displaying differences in prediction and actual data from the 2017 NFL Draft. Evidently, this model is not very accurate, and there is very high variance between some of the actual data and the predictions. Many players that were actually drafted very early on were projected to be selected very late by this model, and vice-versa. Extreme predictions are over 100 picks off (this is equivalent to all teams in the league not choosing the player for three consecutive rounds of the draft). It is also important to note that there is little data for fullbacks (FB) and long snappers (LS). These absences in data can be explained by two reasons: either these positions do not typically participate in many drills or many players do not enter the draft under these positions (or both).\n",
    "\n",
    "As we observed from earlier visualizations and analysis, it is clear measurements vary by position. Thus, it may be a better choice to include variables that account for these differences. However, rather than including variables that account for differences in these positions into a single model, we decided that making a separate predictor for each position would be a smarter and more efficient choice."
   ]
  },
  {
   "cell_type": "code",
   "execution_count": null,
   "metadata": {},
   "outputs": [],
   "source": [
    "by_position = combine_data.groupby(by=\"Pos\")\n",
    "groups_to_graph = ['DE', 'WR', 'TE']\n",
    "\n",
    "scores = []\n",
    "coefficients = []\n",
    "\n",
    "for name, group in by_position:\n",
    "    ind_cols = ['Height', 'Wt', '40YD','Vertical', 'BenchReps', 'Broad Jump']\n",
    "\n",
    "    train_input = group[ind_cols].values\n",
    "    train_output = group['Pick Number'].values\n",
    "\n",
    "    reg = LinearRegression().fit(train_input, train_output)\n",
    "    #print(\"Score for \" + name + \": \" + str(reg.score(train_input,train_output)))\n",
    "    #print(\"Coefficients for \" + name + \": \" + str(reg.coef_))\n",
    "    scores.append(reg.score(train_input,train_output))\n",
    "    coefficients.append(reg.coef_)\n",
    "    \n",
    "    if name in groups_to_graph:\n",
    "        test_data = group.copy()\n",
    "        test_data = test_data[test_data['Year'] == 2017]\n",
    "\n",
    "        arr = []\n",
    "        for index, row in test_data.iterrows():\n",
    "            arr.append(reg.predict(row[['Height','Wt','40YD','Vertical','BenchReps','Broad Jump']].to_numpy().reshape(1,6))[0])\n",
    "\n",
    "        series = pd.Series(arr, test_data.index)\n",
    "        test_data['prediction'] = series\n",
    "        test_data['residuals'] = test_data['Pick Number'] - test_data['prediction']\n",
    "\n",
    "        plt.figure(figsize=(8, 4))\n",
    "        sns.boxplot(x = 'Pos', y = 'residuals', data = test_data)\n",
    "        plt.show()\n",
    "        \n",
    "score_series = pd.Series(scores, ['CB','DE','DT', 'FB', 'FS', 'ILB', 'LS', 'OG', 'OLB', 'OT','P', 'QB', 'RB', 'SS', 'TE', 'WR'])\n",
    "coef = np.asarray(coefficients).reshape(16,6)\n",
    "model_results = pd.DataFrame(coef, index = ['CB','DE','DT', 'FB', 'FS', 'ILB', 'LS', 'OG', 'OLB', 'OT','P', 'QB', 'RB', 'SS', 'TE', 'WR'], columns = ['Height Coef','Wt Coef','40YD Coef','Vertical Coef','BenchReps Coef','Broad Jump Coef'])\n",
    "model_results['Score'] = score_series\n",
    "model_results"
   ]
  },
  {
   "cell_type": "markdown",
   "metadata": {},
   "source": [
    "As we can see here, the models per position are much improved in comparison to the single model for all positions. Compare to our original coefficient of determination score of 0.08, all but three of our position-based models are worse in score. However, one outlier in these models is the long snapper (LS) model, a position which we saw little data for in our previous residuals graph. It is safe here that the data here is not sufficient in predicting the draft stock of a long snapper, as there is so little data available. \n",
    "\n",
    "Another interesting observation is coefficient of the forty yard dash variable. Across the majority of models, slower forty yard dash times will lead to much worse draft position. Despite the inaccuracies of the model, speed is important across all positions."
   ]
  },
  {
   "cell_type": "markdown",
   "metadata": {},
   "source": [
    "We can further train our models to be even more accurate. Thus far we have ignored two drills, the 3-cone drill and the shuttle drill. Historically and through our dataset spanning 17 years, punters have never performed these drills. These two drills are an added measure of agility that punters are not tested on, therefore to train our model including these drills we will remove punters from our current dataset."
   ]
  },
  {
   "cell_type": "code",
   "execution_count": 3,
   "metadata": {},
   "outputs": [
    {
     "ename": "NameError",
     "evalue": "name 'combine_data' is not defined",
     "output_type": "error",
     "traceback": [
      "\u001b[0;31m---------------------------------------------------------------------------\u001b[0m",
      "\u001b[0;31mNameError\u001b[0m                                 Traceback (most recent call last)",
      "\u001b[0;32m<ipython-input-3-cc56609cb4a8>\u001b[0m in \u001b[0;36m<module>\u001b[0;34m()\u001b[0m\n\u001b[0;32m----> 1\u001b[0;31m \u001b[0mpunter_index\u001b[0m \u001b[0;34m=\u001b[0m \u001b[0mcombine_data\u001b[0m\u001b[0;34m[\u001b[0m\u001b[0;34m(\u001b[0m\u001b[0mcombine_data\u001b[0m\u001b[0;34m[\u001b[0m\u001b[0;34m'Pos'\u001b[0m\u001b[0;34m]\u001b[0m\u001b[0;34m==\u001b[0m\u001b[0;34m'P'\u001b[0m\u001b[0;34m)\u001b[0m\u001b[0;34m]\u001b[0m\u001b[0;34m.\u001b[0m\u001b[0mindex\u001b[0m\u001b[0;34m\u001b[0m\u001b[0;34m\u001b[0m\u001b[0m\n\u001b[0m\u001b[1;32m      2\u001b[0m \u001b[0mwithout_punter\u001b[0m \u001b[0;34m=\u001b[0m \u001b[0mcombine_data\u001b[0m\u001b[0;34m.\u001b[0m\u001b[0mdrop\u001b[0m\u001b[0;34m(\u001b[0m\u001b[0mpunter_index\u001b[0m\u001b[0;34m,\u001b[0m \u001b[0minplace\u001b[0m \u001b[0;34m=\u001b[0m \u001b[0mFalse\u001b[0m\u001b[0;34m)\u001b[0m\u001b[0;34m\u001b[0m\u001b[0;34m\u001b[0m\u001b[0m\n\u001b[1;32m      3\u001b[0m \u001b[0mwithout_punter\u001b[0m\u001b[0;34m.\u001b[0m\u001b[0mhead\u001b[0m\u001b[0;34m(\u001b[0m\u001b[0;34m)\u001b[0m\u001b[0;34m\u001b[0m\u001b[0;34m\u001b[0m\u001b[0m\n\u001b[1;32m      4\u001b[0m \u001b[0;34m\u001b[0m\u001b[0m\n",
      "\u001b[0;31mNameError\u001b[0m: name 'combine_data' is not defined"
     ]
    }
   ],
   "source": [
    "punter_index = combine_data[(combine_data['Pos']=='P')].index\n",
    "without_punter = combine_data.drop(punter_index, inplace = False)\n",
    "without_punter.head()"
   ]
  },
  {
   "cell_type": "markdown",
   "metadata": {},
   "source": [
    "Now we can use our dataset to train our models for each postion, excluding punters."
   ]
  },
  {
   "cell_type": "code",
   "execution_count": null,
   "metadata": {},
   "outputs": [],
   "source": [
    "by_position = without_punter.groupby(by=\"Pos\")\n",
    "groups_to_graph = ['DE', 'WR', 'TE']\n",
    "\n",
    "scores = []\n",
    "coefficients = []\n",
    "\n",
    "for name, group in by_position:\n",
    "    ind_cols = ['Height', 'Wt', '40YD','Vertical', 'BenchReps', 'Broad Jump', '3Cone', 'Shuttle']\n",
    "\n",
    "    train_input = group[ind_cols].values\n",
    "    train_output = group['Pick Number'].values\n",
    "\n",
    "    reg = LinearRegression().fit(train_input, train_output)\n",
    "    #print(\"Score for \" + name + \": \" + str(reg.score(train_input,train_output)))\n",
    "    scores.append(reg.score(train_input,train_output))\n",
    "    #print(\"Coefficients for \" + name + \": \" + str(reg.coef_))\n",
    "    coefficients.append(reg.coef_)\n",
    "    \n",
    "    if name in groups_to_graph:\n",
    "        test_data = group.copy()\n",
    "        test_data = test_data[test_data['Year'] == 2017]\n",
    "\n",
    "        arr = []\n",
    "        for index, row in test_data.iterrows():\n",
    "            arr.append(reg.predict(row[['Height','Wt','40YD','Vertical','BenchReps','Broad Jump', '3Cone', 'Shuttle']].to_numpy().reshape(1,8))[0])\n",
    "\n",
    "        series = pd.Series(arr, test_data.index)\n",
    "        test_data['prediction'] = series\n",
    "        test_data['residuals'] = test_data['Pick Number'] - test_data['prediction']\n",
    "\n",
    "        plt.figure(figsize=(8, 4))\n",
    "        sns.boxplot(x = 'Pos', y = 'residuals', data = test_data)\n",
    "        plt.show()\n",
    "\n",
    "score_series = pd.Series(scores, ['CB','DE','DT', 'FB', 'FS', 'ILB', 'LS', 'OG', 'OLB', 'OT', 'QB', 'RB', 'SS', 'TE', 'WR'])\n",
    "coef = np.asarray(coefficients).reshape(15,8)\n",
    "model_results = pd.DataFrame(coef, index = ['CB','DE','DT', 'FB', 'FS', 'ILB', 'LS', 'OG', 'OLB', 'OT', 'QB', 'RB', 'SS', 'TE', 'WR'], columns = ['Height Coef','Wt Coef','40YD Coef','Vertical Coef','BenchReps Coef','Broad Jump Coef', '3Cone Coef', 'Shuttle Coef'])\n",
    "model_results['Score'] = score_series\n",
    "model_results\n"
   ]
  },
  {
   "cell_type": "markdown",
   "metadata": {},
   "source": [
    "By comparing the two models, we can see that inclduing these last two drills has resulted in slight improvements for all the models. Excluding the punter and the long snappers, the coefficient of determination for each position had slight improvements. However, by comparing the residuals from these models to our previous models, there hasn't been a significance decrease in error."
   ]
  },
  {
   "cell_type": "markdown",
   "metadata": {},
   "source": [
    "## 5. Discussion\n",
    "\n",
    "The combine measurements have little predictive power in determining a player's draft stock. While the combine does an effective job of measuring player's physical attributes, it is difficult to determine from this data exactly the skills that players possess. Football is a game of not only physicality but also skill. Certain skills are difficult to measure with only quantitative measurements. It is great to know how tall, fast, or strong a player is, but numbers can only so accurately measure an inidividual's blocking, passing, catching, kicking, etc. The list goes on. \n",
    "\n",
    "In addition to an inability to measure many types of traits, poor combine performance does not always lead to poor league performance and vice-versa. Quarterback Tom Brady is cited as a prime example of this. Tom Brady's combine performance left much to be desired, as he was ultimately chosen 199th in the 2000 NFL Draft. Despite this, he has won multiple superbowls and is considered one of the greatest quarterbacks to ever play in the League. Many factors could have led to his success, and it is right to say that the majority of scouts did not see this coming. The NFL Draft Combine certainly allows players to both surprise and disappoint scouts, but it is naive to think that combine performance is a primary factor in determining a player's success; it may certainly be a good indicator."
   ]
  },
  {
   "cell_type": "markdown",
   "metadata": {},
   "source": [
    "## 6. Conclusion\n",
    "\n",
    "In this analysis, we attempted to predict where a player would be drafted in an NFL Draft given their draft combine measurements, taking into account height, weight, and other performance factors."
   ]
  }
 ],
 "metadata": {
  "colab": {
   "name": "CMSC320FinalProject_AhmedNam.ipynb",
   "provenance": []
  },
  "kernelspec": {
   "display_name": "Python 2",
   "language": "python",
   "name": "python2"
  },
  "language_info": {
   "codemirror_mode": {
    "name": "ipython",
    "version": 2
   },
   "file_extension": ".py",
   "mimetype": "text/x-python",
   "name": "python",
   "nbconvert_exporter": "python",
   "pygments_lexer": "ipython2",
   "version": "2.7.15+"
  }
 },
 "nbformat": 4,
 "nbformat_minor": 1
}
